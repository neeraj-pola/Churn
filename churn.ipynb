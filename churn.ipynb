{
  "nbformat": 4,
  "nbformat_minor": 0,
  "metadata": {
    "colab": {
      "name": "churn.ipynb",
      "provenance": [],
      "authorship_tag": "ABX9TyNzZNGQk1eUvWNNPL/fVnbG",
      "include_colab_link": true
    },
    "kernelspec": {
      "name": "python3",
      "display_name": "Python 3"
    },
    "language_info": {
      "name": "python"
    }
  },
  "cells": [
    {
      "cell_type": "markdown",
      "metadata": {
        "id": "view-in-github",
        "colab_type": "text"
      },
      "source": [
        "<a href=\"https://colab.research.google.com/github/neeraj-pola/Churn/blob/main/churn.ipynb\" target=\"_parent\"><img src=\"https://colab.research.google.com/assets/colab-badge.svg\" alt=\"Open In Colab\"/></a>"
      ]
    },
    {
      "cell_type": "code",
      "execution_count": null,
      "metadata": {
        "id": "XPPjusEjl2_9"
      },
      "outputs": [],
      "source": [
        "import numpy as np\n",
        "import pandas as pd"
      ]
    },
    {
      "cell_type": "code",
      "source": [
        "dataset = pd.read_csv(\"churn.csv\")\n",
        "x = dataset.iloc[:, 1:-1].values\n",
        "y = dataset.iloc[:, -1].values\n",
        "print(x)\n",
        "print(x[:, 16])"
      ],
      "metadata": {
        "colab": {
          "base_uri": "https://localhost:8080/"
        },
        "id": "lkADLxa3mSo8",
        "outputId": "4c11f006-84ef-4b30-f46d-6001206a1683"
      },
      "execution_count": null,
      "outputs": [
        {
          "output_type": "stream",
          "name": "stdout",
          "text": [
            "[['Female' 0 'Yes' ... 'Electronic check' 29.85 '29.85']\n",
            " ['Male' 0 'No' ... 'Mailed check' 56.95 '1889.5']\n",
            " ['Male' 0 'No' ... 'Mailed check' 53.85 '108.15']\n",
            " ...\n",
            " ['Female' 0 'Yes' ... 'Electronic check' 29.6 '346.45']\n",
            " ['Male' 1 'Yes' ... 'Mailed check' 74.4 '306.6']\n",
            " ['Male' 0 'No' ... 'Bank transfer (automatic)' 105.65 '6844.5']]\n",
            "['Electronic check' 'Mailed check' 'Mailed check' ... 'Electronic check'\n",
            " 'Mailed check' 'Bank transfer (automatic)']\n"
          ]
        }
      ]
    },
    {
      "cell_type": "code",
      "source": [
        "from sklearn.preprocessing import LabelEncoder\n",
        "from sklearn.preprocessing import OneHotEncoder\n",
        "le = LabelEncoder()\n",
        "x[:, 0] = le.fit_transform(x[:, 0])\n",
        "x[:, 2] = le.fit_transform(x[:, 2])\n",
        "x[:, 3] = le.fit_transform(x[:, 3])\n",
        "\n",
        "#5-16 columns can also be done by one hot encoding\n",
        "\n",
        "x[:, 5] = le.fit_transform(x[:, 5])\n",
        "x[:, 6] = le.fit_transform(x[:, 6])\n",
        "x[:, 7] = le.fit_transform(x[:, 7])\n",
        "x[:, 8] = le.fit_transform(x[:, 8])\n",
        "x[:, 9] = le.fit_transform(x[:, 9])\n",
        "x[:, 10] = le.fit_transform(x[:, 10])\n",
        "x[:, 11] = le.fit_transform(x[:, 11])\n",
        "x[:, 12] = le.fit_transform(x[:, 12])\n",
        "x[:, 13] = le.fit_transform(x[:, 13])\n",
        "x[:, 14] = le.fit_transform(x[:, 14])\n",
        "x[:, 15] = le.fit_transform(x[:, 15])\n",
        "x[:, 16] = le.fit_transform(x[:, 16])\n",
        "x[:, -1] = le.fit_transform(x[:, -1])\n",
        "print(x)"
      ],
      "metadata": {
        "colab": {
          "base_uri": "https://localhost:8080/"
        },
        "id": "MUWZHaAAmhHV",
        "outputId": "f03dcb7d-4f34-4e91-8dce-daeea2cb5674"
      },
      "execution_count": null,
      "outputs": [
        {
          "output_type": "stream",
          "name": "stdout",
          "text": [
            "[[0 0 1 ... 2 29.85 2505]\n",
            " [1 0 0 ... 3 56.95 1466]\n",
            " [1 0 0 ... 3 53.85 157]\n",
            " ...\n",
            " [0 0 1 ... 2 29.6 2994]\n",
            " [1 1 1 ... 3 74.4 2660]\n",
            " [1 0 0 ... 0 105.65 5407]]\n"
          ]
        }
      ]
    },
    {
      "cell_type": "code",
      "source": [
        "from sklearn.model_selection import train_test_split\n",
        "x_train,x_test,y_train,y_test = train_test_split(x,y,test_size=0.3,random_state=5)"
      ],
      "metadata": {
        "id": "dBvJASlOy-jk"
      },
      "execution_count": null,
      "outputs": []
    },
    {
      "cell_type": "code",
      "source": [
        "from sklearn.preprocessing import StandardScaler\n",
        "sc = StandardScaler()\n",
        "x_train = sc.fit_transform(x_train)\n",
        "x_test = sc.fit_transform(x_test)"
      ],
      "metadata": {
        "id": "dKY_y16qzm-6"
      },
      "execution_count": null,
      "outputs": []
    },
    {
      "cell_type": "code",
      "source": [
        "from sklearn.linear_model import LogisticRegression\n",
        "classifier = LogisticRegression(random_state=5)\n",
        "classifier.fit(x_train,y_train)\n"
      ],
      "metadata": {
        "colab": {
          "base_uri": "https://localhost:8080/"
        },
        "id": "elkkSbXY0mnc",
        "outputId": "1d0164ef-4365-40ff-8a39-7c4b40260fb8"
      },
      "execution_count": null,
      "outputs": [
        {
          "output_type": "execute_result",
          "data": {
            "text/plain": [
              "LogisticRegression(random_state=5)"
            ]
          },
          "metadata": {},
          "execution_count": 6
        }
      ]
    },
    {
      "cell_type": "code",
      "source": [
        "y_pred = classifier.predict(x_test)"
      ],
      "metadata": {
        "id": "BV2qw2dj0zwq"
      },
      "execution_count": null,
      "outputs": []
    },
    {
      "cell_type": "code",
      "source": [
        "from sklearn.metrics import accuracy_score\n",
        "accuracy_score(y_pred,y_test)"
      ],
      "metadata": {
        "colab": {
          "base_uri": "https://localhost:8080/"
        },
        "id": "VyePgeWo0_rs",
        "outputId": "0e721081-320b-4e90-e469-33fc8bdf1c7c"
      },
      "execution_count": null,
      "outputs": [
        {
          "output_type": "execute_result",
          "data": {
            "text/plain": [
              "0.7960246095598675"
            ]
          },
          "metadata": {},
          "execution_count": 8
        }
      ]
    }
  ]
}